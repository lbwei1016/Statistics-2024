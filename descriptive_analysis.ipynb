{
 "cells": [
  {
   "cell_type": "code",
   "execution_count": 1,
   "metadata": {},
   "outputs": [
    {
     "name": "stdout",
     "output_type": "stream",
     "text": [
      "  Team  1  2  3  4  5  6  7  8  9  ...  10  11  12  13  14  15  16  17  18  19\n",
      "0  STL  0  0  0  0  0  0  0  0  1  ... NaN NaN NaN NaN NaN NaN NaN NaN NaN NaN\n",
      "1  PIT  0  2  0  0  0  1  0  1  -  ... NaN NaN NaN NaN NaN NaN NaN NaN NaN NaN\n",
      "2  TOR  2  0  0  1  0  0  0  2  0  ... NaN NaN NaN NaN NaN NaN NaN NaN NaN NaN\n",
      "3   TB  0  0  1  0  0  0  0  0  2  ... NaN NaN NaN NaN NaN NaN NaN NaN NaN NaN\n",
      "4  NYM  0  0  0  0  0  0  0  3  0  ... NaN NaN NaN NaN NaN NaN NaN NaN NaN NaN\n",
      "\n",
      "[5 rows x 24 columns]\n",
      "Index(['Team', '1', '2', '3', '4', '5', '6', '7', '8', '9', 'R', 'H', 'E',\n",
      "       'Game', '10', '11', '12', '13', '14', '15', '16', '17', '18', '19'],\n",
      "      dtype='object')\n"
     ]
    }
   ],
   "source": [
    "import pandas as pd\n",
    "import numpy as np\n",
    "import matplotlib.pyplot as plt\n",
    "import seaborn as sns\n",
    "import scipy\n",
    "\n",
    "data = pd.read_csv('inningScore.csv') \n",
    "print(data.head())\n",
    "\n",
    "print(data.columns)"
   ]
  },
  {
   "cell_type": "code",
   "execution_count": 2,
   "metadata": {},
   "outputs": [],
   "source": [
    "To_which_inning = 5\n",
    "\n",
    "def Sum_to_n_inning(To_which_inning: int):  \n",
    "    # sum from 1st inning to 5th inning for every row\n",
    "    col_list = [str(i) for i in range(1, To_which_inning+1)]\n",
    "\n",
    "    # Convert columns to numeric type\n",
    "    data[col_list] = data[col_list].apply(pd.to_numeric, errors='coerce')   \n",
    "\n",
    "    data['InningSum'] = data[col_list].sum(axis=1, numeric_only=True)\n",
    "    sum_data = data[['Team', 'Game', 'InningSum']].copy()\n",
    "\n",
    "    # print(sum_data.head(10))\n",
    "\n",
    "    # For every Game, calculate the abs difference between the two teams \n",
    "    # One Game print out one row\n",
    "    # x.diff(): home - away (lower row minus upper row)\n",
    "    sum_data.loc[:, 'SumDiff'] = sum_data.groupby('Game')['InningSum'].transform(lambda x: x.diff())\n",
    "\n",
    "    # only print distinct Game\n",
    "    diff_data = sum_data[['Game', 'SumDiff']]\n",
    "    diff_data = diff_data.dropna()\n",
    "    # print(diff_data.head())\n",
    "\n",
    "    plt.title(f'SumDiff to the end of Inning {To_which_inning}')\n",
    "    sns.histplot(diff_data['SumDiff'], bins=20, kde=True)\n",
    "\n",
    "\n",
    "def neg_sum_to_n_inning(To_which_inning: int) -> pd.Series:  \n",
    "    # sum from 1st inning to 5th inning for every row\n",
    "    col_list = [str(i) for i in range(1, To_which_inning+1)]\n",
    "\n",
    "    # Convert columns to numeric type\n",
    "    data[col_list] = data[col_list].apply(pd.to_numeric, errors='coerce')   \n",
    "\n",
    "    data['InningSum'] = data[col_list].sum(axis=1, numeric_only=True)\n",
    "    sum_data = data[['Team', 'Game', 'InningSum']].copy()\n",
    "\n",
    "    # print(sum_data.head(10))\n",
    "\n",
    "    # For every Game, calculate the abs difference between the two teams \n",
    "    # One Game print out one row\n",
    "    # x.diff(): home - away (lower row minus upper row)\n",
    "    sum_data.loc[:, 'SumDiff'] = sum_data.groupby('Game')['InningSum'].transform(lambda x: x.diff())\n",
    "\n",
    "    # only print distinct Game\n",
    "    diff_data = sum_data[['Game', 'SumDiff']]\n",
    "    diff_data = diff_data.dropna()\n",
    "    neg_diff_data = diff_data[diff_data['SumDiff'] <= 0]\n",
    "    # print(diff_data.head())\n",
    "\n",
    "    # plt.title(f'SumDiff to the end of Inning {To_which_inning}')\n",
    "    # sns.histplot(diff_data['SumDiff'], bins=20, kde=True)\n",
    "\n",
    "    return neg_diff_data"
   ]
  },
  {
   "cell_type": "markdown",
   "metadata": {},
   "source": [
    "## Plot the run difference to the end of inning 1-8"
   ]
  },
  {
   "cell_type": "code",
   "execution_count": 3,
   "metadata": {},
   "outputs": [],
   "source": [
    "# # Create subplots\n",
    "# fig, axs = plt.subplots(2, 4, figsize=(16, 8))  # 2 rows, 4 columns\n",
    "\n",
    "# neg_diff_data_list = []\n",
    "# for i, ax in enumerate(axs.flat, start=1):\n",
    "#     plt.subplot(2, 4, i)  # Set current subplot\n",
    "#     diff_data = Sum_to_n_inning(i)\n",
    "\n",
    "# plt.tight_layout()  # Adjust layout to prevent overlap\n",
    "# plt.show()"
   ]
  },
  {
   "cell_type": "markdown",
   "metadata": {},
   "source": [
    "## Get the run difference to the end of inning 1-8 (only negative results)"
   ]
  },
  {
   "cell_type": "code",
   "execution_count": 4,
   "metadata": {},
   "outputs": [
    {
     "name": "stdout",
     "output_type": "stream",
     "text": [
      "(negative) mean diff. at 1-th inning: -0.5327877134485197\n",
      "(negative) mean diff. at 2-th inning: -0.9769195082347483\n",
      "(negative) mean diff. at 3-th inning: -1.4262958280657396\n",
      "(negative) mean diff. at 4-th inning: -1.7850219094409774\n",
      "(negative) mean diff. at 5-th inning: -2.138078783690394\n",
      "(negative) mean diff. at 6-th inning: -2.4323063877897115\n",
      "(negative) mean diff. at 7-th inning: -2.711158798283262\n",
      "(negative) mean diff. at 8-th inning: -2.9945031100824533\n"
     ]
    },
    {
     "data": {
      "text/html": [
       "<div>\n",
       "<style scoped>\n",
       "    .dataframe tbody tr th:only-of-type {\n",
       "        vertical-align: middle;\n",
       "    }\n",
       "\n",
       "    .dataframe tbody tr th {\n",
       "        vertical-align: top;\n",
       "    }\n",
       "\n",
       "    .dataframe thead th {\n",
       "        text-align: right;\n",
       "    }\n",
       "</style>\n",
       "<table border=\"1\" class=\"dataframe\">\n",
       "  <thead>\n",
       "    <tr style=\"text-align: right;\">\n",
       "      <th></th>\n",
       "      <th>Game</th>\n",
       "      <th>SumDiff</th>\n",
       "    </tr>\n",
       "  </thead>\n",
       "  <tbody>\n",
       "    <tr>\n",
       "      <th>1</th>\n",
       "      <td>360403123</td>\n",
       "      <td>0.0</td>\n",
       "    </tr>\n",
       "    <tr>\n",
       "      <th>3</th>\n",
       "      <td>360403130</td>\n",
       "      <td>-2.0</td>\n",
       "    </tr>\n",
       "    <tr>\n",
       "      <th>9</th>\n",
       "      <td>360404101</td>\n",
       "      <td>0.0</td>\n",
       "    </tr>\n",
       "    <tr>\n",
       "      <th>11</th>\n",
       "      <td>360404113</td>\n",
       "      <td>-1.0</td>\n",
       "    </tr>\n",
       "    <tr>\n",
       "      <th>13</th>\n",
       "      <td>360404115</td>\n",
       "      <td>0.0</td>\n",
       "    </tr>\n",
       "    <tr>\n",
       "      <th>17</th>\n",
       "      <td>360404125</td>\n",
       "      <td>-2.0</td>\n",
       "    </tr>\n",
       "    <tr>\n",
       "      <th>19</th>\n",
       "      <td>360404130</td>\n",
       "      <td>0.0</td>\n",
       "    </tr>\n",
       "    <tr>\n",
       "      <th>21</th>\n",
       "      <td>360404129</td>\n",
       "      <td>0.0</td>\n",
       "    </tr>\n",
       "    <tr>\n",
       "      <th>23</th>\n",
       "      <td>360404103</td>\n",
       "      <td>-1.0</td>\n",
       "    </tr>\n",
       "    <tr>\n",
       "      <th>25</th>\n",
       "      <td>360404111</td>\n",
       "      <td>0.0</td>\n",
       "    </tr>\n",
       "  </tbody>\n",
       "</table>\n",
       "</div>"
      ],
      "text/plain": [
       "         Game  SumDiff\n",
       "1   360403123      0.0\n",
       "3   360403130     -2.0\n",
       "9   360404101      0.0\n",
       "11  360404113     -1.0\n",
       "13  360404115      0.0\n",
       "17  360404125     -2.0\n",
       "19  360404130      0.0\n",
       "21  360404129      0.0\n",
       "23  360404103     -1.0\n",
       "25  360404111      0.0"
      ]
     },
     "execution_count": 4,
     "metadata": {},
     "output_type": "execute_result"
    }
   ],
   "source": [
    "neg_diff_data_list = []\n",
    "for i in range(1, 9):\n",
    "    neg_diff_data = neg_sum_to_n_inning(i)\n",
    "    neg_diff_mean = neg_diff_data['SumDiff'].mean()\n",
    "    print(f'(negative) mean diff. at {i}-th inning: {neg_diff_mean}')\n",
    "    neg_diff_data_list.append(neg_diff_data)\n",
    "\n",
    "neg_diff_data_list[0].head(10)"
   ]
  },
  {
   "cell_type": "markdown",
   "metadata": {},
   "source": [
    "## Run difference at the End of the Game"
   ]
  },
  {
   "cell_type": "code",
   "execution_count": 5,
   "metadata": {},
   "outputs": [
    {
     "name": "stdout",
     "output_type": "stream",
     "text": [
      "ScoreDiff\n",
      " 1.0     2200\n",
      "-1.0     1489\n",
      " 2.0     1245\n",
      "-2.0     1152\n",
      " 3.0      992\n",
      "-3.0      949\n",
      " 4.0      806\n",
      "-4.0      762\n",
      "-5.0      578\n",
      " 5.0      574\n",
      " 6.0      410\n",
      "-6.0      406\n",
      " 7.0      315\n",
      "-7.0      306\n",
      " 8.0      217\n",
      "-8.0      193\n",
      " 9.0      148\n",
      "-9.0      142\n",
      " 10.0      98\n",
      "-10.0      95\n",
      "-11.0      63\n",
      " 11.0      60\n",
      " 12.0      41\n",
      "-12.0      35\n",
      " 13.0      33\n",
      "-13.0      32\n",
      " 14.0      23\n",
      "-14.0      17\n",
      "-15.0      14\n",
      " 15.0      10\n",
      " 0.0        8\n",
      " 16.0       8\n",
      "-16.0       5\n",
      " 18.0       4\n",
      " 17.0       4\n",
      "-18.0       3\n",
      "-17.0       3\n",
      "-19.0       2\n",
      " 19.0       2\n",
      " 21.0       2\n",
      " 20.0       2\n",
      "-20.0       1\n",
      "-21.0       1\n",
      "Name: count, dtype: int64\n"
     ]
    },
    {
     "data": {
      "image/png": "[encoded data removed]",
      "text/plain": [
       "<Figure size 640x480 with 1 Axes>"
      ]
     },
     "metadata": {},
     "output_type": "display_data"
    }
   ],
   "source": [
    "# sum elements in all_inning if it is not NaN\n",
    "all_inning = [str(i) for i in range(1, 20)]\n",
    "# print(all_inning)\n",
    "\n",
    "data[all_inning] = data[all_inning].replace({np.nan: 0, '-': 0})\n",
    "\n",
    "# Convert columns to numeric type\n",
    "data[all_inning] = data[all_inning].apply(pd.to_numeric, errors='coerce')\n",
    "\n",
    "data[\"final_score\"] = data[all_inning].sum(axis=1, numeric_only=True)\n",
    "\n",
    "# calculate the difference between the two teams per game\n",
    "# data['ScoreDiff'] = data.groupby('Game')['final_score'].transform(lambda x: x.diff())\n",
    "data['ScoreDiff'] = data.groupby('Game')['final_score'].transform(lambda x: x.diff())\n",
    "\n",
    "# print(data.head())\n",
    "\n",
    "ScoreDiff_data = data[['Game', 'ScoreDiff']].dropna()\n",
    "\n",
    "print(ScoreDiff_data['ScoreDiff'].value_counts())\n",
    "\n",
    "plt.title('ScoreDiff to the end of the game')\n",
    "sns.histplot(ScoreDiff_data['ScoreDiff'], bins=100, kde=True)\n",
    "\n",
    "plt.show()"
   ]
  },
  {
   "cell_type": "markdown",
   "metadata": {},
   "source": [
    "## Partition final run differences with the $k$-th inning (inning 1 ~ 8)"
   ]
  },
  {
   "cell_type": "code",
   "execution_count": 24,
   "metadata": {},
   "outputs": [
    {
     "name": "stdout",
     "output_type": "stream",
     "text": [
      "score diff mean:  -0.5575739226965385\n",
      "sample size: 9909\n",
      "score diff mean:  -1.055812876331635\n",
      "sample size: 8636\n",
      "score diff mean:  -1.5129337539432177\n",
      "sample size: 7925\n",
      "score diff mean:  -1.9738899933730947\n",
      "sample size: 7545\n",
      "score diff mean:  -2.322620689655172\n",
      "sample size: 7250\n",
      "score diff mean:  -2.6360817477096545\n",
      "sample size: 7095\n",
      "score diff mean:  -2.891108891108891\n",
      "sample size: 7007\n",
      "score diff mean:  -3.112730946882217\n",
      "sample size: 6928\n"
     ]
    }
   ],
   "source": [
    "score_diff_data_set = []\n",
    "for i in range(8):\n",
    "    score_diff_data_set.append(ScoreDiff_data[ScoreDiff_data['Game'].isin(neg_diff_data_list[i]['Game'])])\n",
    "    score_diff_mean = score_diff_data_set[i]['ScoreDiff'].mean()\n",
    "    # print(score_diff_data_set[i])\n",
    "    print('score diff mean: ', score_diff_mean)\n",
    "    print('sample size:', score_diff_data_set[i].shape[0])"
   ]
  },
  {
   "cell_type": "markdown",
   "metadata": {},
   "source": [
    "## Calculate confidence intervals (t-test)"
   ]
  },
  {
   "cell_type": "code",
   "execution_count": 23,
   "metadata": {},
   "outputs": [
    {
     "name": "stdout",
     "output_type": "stream",
     "text": [
      "CI of final run difference (for 1-th inning): (-0.643, -0.472)\n",
      "CI of final run difference (for 2-th inning): (-1.145, -0.967)\n",
      "CI of final run difference (for 3-th inning): (-1.602, -1.424)\n",
      "CI of final run difference (for 4-th inning): (-2.061, -1.887)\n",
      "CI of final run difference (for 5-th inning): (-2.407, -2.238)\n",
      "CI of final run difference (for 6-th inning): (-2.717, -2.555)\n",
      "CI of final run difference (for 7-th inning): (-2.968, -2.814)\n",
      "CI of final run difference (for 8-th inning): (-3.186, -3.039)\n"
     ]
    }
   ],
   "source": [
    "from scipy import stats\n",
    "\n",
    "confidence = 0.95\n",
    "for i in range(8):\n",
    "    lower, upper = stats.t.interval(\n",
    "        confidence=confidence,\n",
    "        df=score_diff_data_set[i].shape[0] - 1,\n",
    "        loc=score_diff_data_set[i]['ScoreDiff'].mean(),\n",
    "        scale=stats.sem(score_diff_data_set[i]['ScoreDiff'])\n",
    "    )\n",
    "    print(f'CI of final run difference (for {i + 1}-th inning): ({lower:.3f}, {upper:.3f})')"
   ]
  },
  {
   "cell_type": "markdown",
   "metadata": {},
   "source": [
    "## Goodness-of-fit"
   ]
  },
  {
   "cell_type": "code",
   "execution_count": null,
   "metadata": {},
   "outputs": [],
   "source": [
    "'''\n",
    "Preform normality test\n",
    "'''\n",
    "from scipy import stats\n",
    "\n",
    "data = ScoreDiff_data['ScoreDiff']\n",
    "stat, p_val = stats.kstest(data, 'norm', [data.mean(), data.std()])\n",
    "print(f'mean: {data.mean()}; variance: {data.var()}')\n",
    "if p_val > 0.05:\n",
    "    print('normally distributed')\n",
    "else:\n",
    "    print('not normally distributed')"
   ]
  },
  {
   "cell_type": "code",
   "execution_count": null,
   "metadata": {},
   "outputs": [],
   "source": [
    "'''\n",
    "Try test for Poisson or Exponential (with abs(x.diff())).\n",
    "Since the mean and variance of our data is not close, it is unlikely a Poisson distribution.\n",
    "Same reason for the exponential distribution.\n",
    "\n",
    "@TODO Try below\n",
    "'''\n",
    "\n",
    "scale = 1 / data.mean()\n",
    "stat, p_val = stats.kstest(data, stats.expon.cdf, [0, scale])\n",
    "p_val"
   ]
  },
  {
   "cell_type": "code",
   "execution_count": null,
   "metadata": {},
   "outputs": [],
   "source": [
    "\"\"\"\n",
    "Test whether our data fits \"folded normal distribution\".\n",
    "\n",
    "It turns out that the resuklt is NO.\n",
    "\"\"\"\n",
    "\n",
    "# Plot histogram of the data\n",
    "plt.hist(data, bins=100, density=True, alpha=0.6, color='g', label='Data Histogram')\n",
    "\n",
    "# Fit the data to a folded normal distribution\n",
    "param = stats.foldnorm.fit(data, floc=0)\n",
    "\n",
    "print(f'estimated param: {param}')\n",
    "\n",
    "# Get the PDF of the fitted folded normal distribution\n",
    "x = np.linspace(0, max(data), 1000)\n",
    "pdf_fitted = stats.foldnorm.pdf(x, *param)\n",
    "plt.plot(x, pdf_fitted, 'r-', label='Fitted Folded Normal PDF')\n",
    "\n",
    "plt.legend()\n",
    "plt.show()\n",
    "\n",
    "# Kolmogorov-Smirnov Test\n",
    "D, p_value_ks = stats.kstest(data, 'foldnorm', args=param)\n",
    "print(f'Kolmogorov-Smirnov Test: D={D}, p-value={p_value_ks}')\n",
    "\n",
    "# Interpretation\n",
    "alpha = 0.05  # Common significance level\n",
    "if p_value_ks > alpha:\n",
    "    print(\"Fail to reject the null hypothesis: The data follows the folded normal distribution.\")\n",
    "else:\n",
    "    print(\"Reject the null hypothesis: The data does not follow the folded normal distribution.\")\n",
    "\n",
    "# if ad_statistic < critical_values[2]:  # Use the 5% significance level critical value\n",
    "#     print(\"Fail to reject the null hypothesis: The data follows the folded normal distribution.\")\n",
    "# else:\n",
    "#     print(\"Reject the null hypothesis: The data does not follow the folded normal distribution.\")"
   ]
  }
 ],
 "metadata": {
  "kernelspec": {
   "display_name": "base",
   "language": "python",
   "name": "python3"
  },
  "language_info": {
   "codemirror_mode": {
    "name": "ipython",
    "version": 3
   },
   "file_extension": ".py",
   "mimetype": "text/x-python",
   "name": "python",
   "nbconvert_exporter": "python",
   "pygments_lexer": "ipython3",
   "version": "3.10.11"
  }
 },
 "nbformat": 4,
 "nbformat_minor": 2
}
